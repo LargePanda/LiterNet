{
 "cells": [
  {
   "cell_type": "code",
   "execution_count": 1,
   "metadata": {
    "collapsed": false
   },
   "outputs": [],
   "source": [
    "import xml.etree.ElementTree as ET\n",
    "from fuzzywuzzy import fuzz\n",
    "import json\n",
    "import xmltodict\n",
    "import urllib\n",
    "import dateutil.parser"
   ]
  },
  {
   "cell_type": "code",
   "execution_count": 2,
   "metadata": {
    "collapsed": true
   },
   "outputs": [],
   "source": [
    "def if_same_person(first, second):\n",
    "    ser = fuzz.token_set_ratio(first, second)    \n",
    "    return ser > 75"
   ]
  },
  {
   "cell_type": "code",
   "execution_count": 3,
   "metadata": {
    "collapsed": true
   },
   "outputs": [],
   "source": [
    "def extract_year(time_string):\n",
    "    return dateutil.parser.parse(time_string).year"
   ]
  },
  {
   "cell_type": "code",
   "execution_count": 4,
   "metadata": {
    "collapsed": false
   },
   "outputs": [],
   "source": [
    "def build_url(first_name, last_name):\n",
    "    url = \"http://export.arxiv.org/api/query?search_query=au:\"\n",
    "    name = last_name + \"_\" + first_name[0]\n",
    "    url += name + \"&max_results=1000\"\n",
    "    return url"
   ]
  },
  {
   "cell_type": "code",
   "execution_count": 5,
   "metadata": {
    "collapsed": false
   },
   "outputs": [],
   "source": [
    "def get_list(src):\n",
    "    ret = []\n",
    "    #try:\n",
    "    for entry in src['feed'][u'entry']:\n",
    "\n",
    "        unit = {}\n",
    "\n",
    "        # get authors\n",
    "        unit['authors'] = entry['author']\n",
    "\n",
    "        # get authors' name strings\n",
    "        if type(entry['author']) is list:\n",
    "            name_list = [ p['name'] for p in entry['author'] ]\n",
    "            name_list_string = \"; \".join(name_list) + \"; \"\n",
    "        else:\n",
    "            name_list_string = entry['author']['name']\n",
    "        # get title, w/ name strings attached in the front\n",
    "        unit['title'] = name_list_string + entry['title']\n",
    "\n",
    "        # get article id\n",
    "        unit['id'] = entry['id']\n",
    "\n",
    "        # get date\n",
    "        unit['year'] = dateutil.parser.parse(entry['published']).year\n",
    "\n",
    "        unit['collaborators'] = []\n",
    "        ret.append(unit)\n",
    "    #except:\n",
    "    #    pass\n",
    "    return ret"
   ]
  },
  {
   "cell_type": "code",
   "execution_count": 6,
   "metadata": {
    "collapsed": false
   },
   "outputs": [],
   "source": [
    "def get_papers(first_name, last_name):\n",
    "    \n",
    "    ret = {}\n",
    "    try:\n",
    "        url = build_url(first_name, last_name)\n",
    "        print url\n",
    "        data = urllib.urlopen(url).read()\n",
    "        hold = json.loads(json.dumps(xmltodict.parse(data)))\n",
    "        papers = get_list(hold)\n",
    "    \n",
    "    \n",
    "        for paper in papers:\n",
    "            pid = paper['id']\n",
    "            ret[pid] = paper\n",
    "    except:\n",
    "        pass\n",
    "    return ret"
   ]
  },
  {
   "cell_type": "markdown",
   "metadata": {
    "collapsed": true
   },
   "source": [
    "## Load Profile"
   ]
  },
  {
   "cell_type": "code",
   "execution_count": 7,
   "metadata": {
    "collapsed": true
   },
   "outputs": [],
   "source": [
    "with open(\"profile.json\") as f:\n",
    "    old_profile_base = json.load(f)"
   ]
  },
  {
   "cell_type": "code",
   "execution_count": 8,
   "metadata": {
    "collapsed": true
   },
   "outputs": [],
   "source": [
    "def make_mapping_from_id_to_person(base):\n",
    "    mapping = {}\n",
    "    for p in base['items']:\n",
    "        mapping[p['member_id']] = p\n",
    "    return mapping"
   ]
  },
  {
   "cell_type": "markdown",
   "metadata": {},
   "source": [
    "#### Build paper list for each professor"
   ]
  },
  {
   "cell_type": "code",
   "execution_count": 9,
   "metadata": {
    "collapsed": true
   },
   "outputs": [],
   "source": [
    "paper_base = {}"
   ]
  },
  {
   "cell_type": "code",
   "execution_count": null,
   "metadata": {
    "collapsed": false
   },
   "outputs": [
    {
     "name": "stdout",
     "output_type": "stream",
     "text": [
      "http://export.arxiv.org/api/query?search_query=au:Agol_I&max_results=1000\n",
      "Ian Agol 30\n",
      "http://export.arxiv.org/api/query?search_query=au:Andersen_J&max_results=1000\n",
      "Jørgen Andersen 304\n",
      "http://export.arxiv.org/api/query?search_query=au:Athreya_J&max_results=1000\n",
      "Jayadev Athreya 28\n",
      "http://export.arxiv.org/api/query?search_query=au:Baraglia_D&max_results=1000\n",
      "David Baraglia 18\n",
      "http://export.arxiv.org/api/query?search_query=au:Basmajian_A&max_results=1000\n",
      "Ara Basmajian 5\n",
      "http://export.arxiv.org/api/query?search_query=au:Belolipetsky_M&max_results=1000\n",
      "Mikhail Belolipetsky 26\n",
      "http://export.arxiv.org/api/query?search_query=au:Benoist_Y&max_results=1000\n",
      "Yves Benoist 5\n",
      "http://export.arxiv.org/api/query?search_query=au:Biquard_O&max_results=1000\n",
      "Olivier Biquard 22\n",
      "http://export.arxiv.org/api/query?search_query=au:Boden_H&max_results=1000\n",
      "Hans Boden 24\n",
      "http://export.arxiv.org/api/query?search_query=au:Boileau_M&max_results=1000\n",
      "Michel Boileau 26\n",
      "http://export.arxiv.org/api/query?search_query=au:Bonahon_F&max_results=1000\n",
      "Francis Bonahon 19\n",
      "http://export.arxiv.org/api/query?search_query=au:Boyer_S&max_results=1000\n",
      "Steven Boyer 20\n",
      "http://export.arxiv.org/api/query?search_query=au:Bradlow_S&max_results=1000\n",
      "Steven Bradlow 24\n",
      "http://export.arxiv.org/api/query?search_query=au:Bridgeman_M&max_results=1000\n",
      "Martin Bridgeman 17\n",
      "http://export.arxiv.org/api/query?search_query=au:Bowen_L&max_results=1000\n",
      "Lewis Bowen 52\n",
      "http://export.arxiv.org/api/query?search_query=au:Brock_J&max_results=1000\n",
      "Jeffrey Brock 41\n",
      "http://export.arxiv.org/api/query?search_query=au:Bromberg_K&max_results=1000\n",
      "Kenneth Bromberg 21\n",
      "http://export.arxiv.org/api/query?search_query=au:Bucher_M&max_results=1000\n",
      "Michelle Bucher 151\n",
      "http://export.arxiv.org/api/query?search_query=au:Burger_M&max_results=1000\n",
      "Marc Burger 68\n",
      "http://export.arxiv.org/api/query?search_query=au:Calegari_D&max_results=1000\n",
      "Danny Calegari 63\n",
      "http://export.arxiv.org/api/query?search_query=au:Canary_R&max_results=1000\n",
      "Richard Canary 25\n",
      "http://export.arxiv.org/api/query?search_query=au:Charette_V&max_results=1000\n",
      "Virginie Charette 15\n",
      "http://export.arxiv.org/api/query?search_query=au:Cooper_D&max_results=1000\n",
      "Daryl Cooper 33\n",
      "http://export.arxiv.org/api/query?search_query=au:Culler_M&max_results=1000\n",
      "Marc Culler 12\n",
      "http://export.arxiv.org/api/query?search_query=au:Daskalopoulos_G&max_results=1000\n",
      "Georgios Daskalopoulos 12\n",
      "http://export.arxiv.org/api/query?search_query=au:Delp_K&max_results=1000\n",
      "Kelly Delp 3\n",
      "http://export.arxiv.org/api/query?search_query=au:Deraux_M&max_results=1000\n",
      "Martin Deraux 7\n",
      "http://export.arxiv.org/api/query?search_query=au:Drumm_T&max_results=1000\n",
      "Todd Drumm 9\n",
      "http://export.arxiv.org/api/query?search_query=au:Duchin_M&max_results=1000\n",
      "Moon Duchin 14\n",
      "http://export.arxiv.org/api/query?search_query=au:Dumas_D&max_results=1000\n",
      "David Dumas 16\n",
      "http://export.arxiv.org/api/query?search_query=au:Dumitrescu_S&max_results=1000\n",
      "Sorin Dumitrescu 17\n",
      "http://export.arxiv.org/api/query?search_query=au:Dunfield_N&max_results=1000\n",
      "Nathan Dunfield 30\n",
      "http://export.arxiv.org/api/query?search_query=au:Eskin_A&max_results=1000\n",
      "Alex Eskin 32\n",
      "http://export.arxiv.org/api/query?search_query=au:Falbel_E&max_results=1000\n",
      "Elisha Falbel 14\n",
      "http://export.arxiv.org/api/query?search_query=au:Farb_B&max_results=1000\n",
      "Benson Farb 56\n",
      "http://export.arxiv.org/api/query?search_query=au:Frigerio_R&max_results=1000\n",
      "Roberto Frigerio 29\n",
      "http://export.arxiv.org/api/query?search_query=au:Florentino_C&max_results=1000\n",
      "Carlos Florentino 24\n",
      "http://export.arxiv.org/api/query?search_query=au:Fock_V&max_results=1000\n",
      "Vladimir Fock 17\n",
      "http://export.arxiv.org/api/query?search_query=au:Forni_G&max_results=1000\n",
      "Giovanni Forni 25\n",
      "http://export.arxiv.org/api/query?search_query=au:Funar_L&max_results=1000\n",
      "Louis Funar 42\n",
      "http://export.arxiv.org/api/query?search_query=au:Futer_D&max_results=1000\n",
      "David Futer 28\n",
      "http://export.arxiv.org/api/query?search_query=au:Gabai_D&max_results=1000\n",
      "David Gabai 12\n",
      "http://export.arxiv.org/api/query?search_query=au:Gadre_V&max_results=1000\n",
      "Vaibhav Gadre 9\n",
      "http://export.arxiv.org/api/query?search_query=au:García-Prada_O&max_results=1000\n",
      "Oscar García-Prada 0\n",
      "http://export.arxiv.org/api/query?search_query=au:Gilman_J&max_results=1000\n",
      "Jane Gilman 17\n",
      "http://export.arxiv.org/api/query?search_query=au:Glasner_Y&max_results=1000\n",
      "Yair Glasner 21\n",
      "http://export.arxiv.org/api/query?search_query=au:Goldman_W&max_results=1000\n",
      "William Goldman 38\n",
      "http://export.arxiv.org/api/query?search_query=au:Goncharov_A&max_results=1000\n",
      "Alexander Goncharov 93\n",
      "http://export.arxiv.org/api/query?search_query=au:Görner_M&max_results=1000\n",
      "Matthias Görner 0\n",
      "http://export.arxiv.org/api/query?search_query=au:Gothen_P&max_results=1000\n",
      "Peter Gothen 22\n",
      "http://export.arxiv.org/api/query?search_query=au:Gualtieri_M&max_results=1000\n",
      "Marco Gualtieri 23\n",
      "http://export.arxiv.org/api/query?search_query=au:Guichard_O&max_results=1000\n",
      "Olivier Guichard 7\n",
      "http://export.arxiv.org/api/query?search_query=au:Guzman_R&max_results=1000\n",
      "Rosemary Guzman 68\n",
      "http://export.arxiv.org/api/query?search_query=au:Haettel_T&max_results=1000\n",
      "Thomas Haettel 8\n",
      "http://export.arxiv.org/api/query?search_query=au:Hausel_T&max_results=1000\n",
      "Tamás Hausel 30\n",
      "http://export.arxiv.org/api/query?search_query=au:Huang_Z&max_results=1000\n",
      "Zheng Huang 401\n",
      "http://export.arxiv.org/api/query?search_query=au:Iozzi_A&max_results=1000\n",
      "Alessandra Iozzi 20\n",
      "http://export.arxiv.org/api/query?search_query=au:Jeffrey_L&max_results=1000\n",
      "Lisa Jeffrey 36\n",
      "http://export.arxiv.org/api/query?search_query=au:Ji_L&max_results=1000\n",
      "Lizhen"
     ]
    }
   ],
   "source": [
    "for person in old_profile_base['items']:\n",
    "    pid = person['member_id']\n",
    "    paper_base[pid] = get_papers(person['name'], person['surname'])\n",
    "    print person['name'], person['surname'], len(paper_base[pid])"
   ]
  },
  {
   "cell_type": "code",
   "execution_count": null,
   "metadata": {
    "collapsed": false
   },
   "outputs": [],
   "source": [
    "paper_base"
   ]
  },
  {
   "cell_type": "code",
   "execution_count": null,
   "metadata": {
    "collapsed": true
   },
   "outputs": [],
   "source": []
  },
  {
   "cell_type": "markdown",
   "metadata": {},
   "source": [
    "# Merge databases"
   ]
  },
  {
   "cell_type": "code",
   "execution_count": null,
   "metadata": {
    "collapsed": false
   },
   "outputs": [],
   "source": [
    "with open(\"papers.json\") as f:\n",
    "    old_paper_base = json.load(f)\n",
    "    \n",
    "with open(\"profile.json\") as f:\n",
    "    old_profile_base = json.load(f)"
   ]
  },
  {
   "cell_type": "code",
   "execution_count": null,
   "metadata": {
    "collapsed": false
   },
   "outputs": [],
   "source": [
    "print \"Oscar Garcia-Prada\""
   ]
  },
  {
   "cell_type": "code",
   "execution_count": null,
   "metadata": {
    "collapsed": false
   },
   "outputs": [],
   "source": [
    "def get_unused_min_id(base):\n",
    "    ids = [p['id'] for p in base['papers']]\n",
    "    return max(idx)+1"
   ]
  },
  {
   "cell_type": "code",
   "execution_count": null,
   "metadata": {
    "collapsed": false
   },
   "outputs": [],
   "source": [
    "def make_mapping_from_id_to_person(base):\n",
    "    mapping = {}\n",
    "    for p in base['items']:\n",
    "        mapping[p['member_id']] = p\n",
    "    return mapping"
   ]
  },
  {
   "cell_type": "code",
   "execution_count": null,
   "metadata": {
    "collapsed": true
   },
   "outputs": [],
   "source": [
    "def make_all_unique_pairs(mapping):\n",
    "    ret = []\n",
    "    keys = mapping.keys()\n",
    "    for i in range(0, len(keys)-1):\n",
    "        for j in range(i+1, len(keys)):\n",
    "            ret.append((keys[i],keys[j]))\n",
    "    return ret"
   ]
  },
  {
   "cell_type": "code",
   "execution_count": null,
   "metadata": {
    "collapsed": true
   },
   "outputs": [],
   "source": [
    "temp_paper_base = {}\n",
    "temp_paper_collaborator = {}"
   ]
  },
  {
   "cell_type": "code",
   "execution_count": null,
   "metadata": {
    "collapsed": false
   },
   "outputs": [],
   "source": [
    "# find papers\n",
    "\n",
    "id2person = make_mapping_from_id_to_person(old_profile_base)\n",
    "pairs = make_all_unique_pairs(id2person)\n",
    "\n",
    "for person in id2person.values():\n",
    "    if type(person['gear_collaborators']) is not list:\n",
    "        person['gear_collaborators'] = []\n",
    "        \n",
    "for pair in pairs:\n",
    "    \n",
    "    if(len(temp_paper_base)%10 == 0):\n",
    "        print len(temp_paper_base)\n",
    "        \n",
    "    p0 = id2person[pair[0]]\n",
    "    p1 = id2person[pair[1]]\n",
    "    papers = get_papers(p0['surname'], p0['name'], p1['surname'], p1['name'])\n",
    "    \n",
    "    for p in papers:\n",
    "        pid = p['id']\n",
    "        temp_paper_base[pid] = p\n",
    "        if pid in temp_paper_collaborator:\n",
    "            temp_paper_collaborator[pid].extend([pair[0], pair[1]])\n",
    "            temp_paper_collaborator[pid] = list(set(temp_paper_collaborator[pid]))\n",
    "        else:\n",
    "            temp_paper_collaborator[pid] = [pair[0], pair[1]]"
   ]
  },
  {
   "cell_type": "code",
   "execution_count": null,
   "metadata": {
    "collapsed": false
   },
   "outputs": [],
   "source": [
    "# main\n",
    "\n",
    "id2person = make_mapping_from_id_to_person(old_profile_base)\n",
    "pairs = make_all_unique_pairs(id2person)\n",
    "\n",
    "for person in id2person.values():\n",
    "    if type(person['gear_collaborators']) is not list:\n",
    "        person['gear_collaborators'] = []\n",
    "        \n",
    "for pair in pairs:\n",
    "    p0 = id2person[pair[0]]\n",
    "    p1 = id2person[pair[1]]\n",
    "    papers = get_papers(p0['surname'], p0['name'], p1['surname'], p1['name'])\n",
    "    if len(papers) > 0:\n",
    "        \n",
    "        p0['gear_collaborators'].append(pair[1])\n",
    "        p0['gear_collaborators'] = list(set(p0['gear_collaborators']))\n",
    "        p1['gear_collaborators'].append(pair[0])\n",
    "        p1['gear_collaborators'] = list(set(p1['gear_collaborators']))\n"
   ]
  },
  {
   "cell_type": "code",
   "execution_count": null,
   "metadata": {
    "collapsed": true
   },
   "outputs": [],
   "source": []
  },
  {
   "cell_type": "code",
   "execution_count": null,
   "metadata": {
    "collapsed": true
   },
   "outputs": [],
   "source": []
  },
  {
   "cell_type": "code",
   "execution_count": null,
   "metadata": {
    "collapsed": true
   },
   "outputs": [],
   "source": []
  },
  {
   "cell_type": "code",
   "execution_count": null,
   "metadata": {
    "collapsed": true
   },
   "outputs": [],
   "source": []
  },
  {
   "cell_type": "code",
   "execution_count": null,
   "metadata": {
    "collapsed": true
   },
   "outputs": [],
   "source": []
  },
  {
   "cell_type": "code",
   "execution_count": null,
   "metadata": {
    "collapsed": true
   },
   "outputs": [],
   "source": [
    "data = urllib.urlopen(\"http://export.arxiv.org/api/query?search_query=au:Bradlow_S&max_results=1000\").read()"
   ]
  },
  {
   "cell_type": "code",
   "execution_count": null,
   "metadata": {
    "collapsed": false
   },
   "outputs": [],
   "source": [
    "data"
   ]
  },
  {
   "cell_type": "code",
   "execution_count": null,
   "metadata": {
    "collapsed": true
   },
   "outputs": [],
   "source": [
    "hold = json.loads(json.dumps(xmltodict.parse(data)))"
   ]
  },
  {
   "cell_type": "code",
   "execution_count": null,
   "metadata": {
    "collapsed": false
   },
   "outputs": [],
   "source": [
    "hold"
   ]
  },
  {
   "cell_type": "code",
   "execution_count": null,
   "metadata": {
    "collapsed": false
   },
   "outputs": [],
   "source": [
    "get_list(hold)"
   ]
  },
  {
   "cell_type": "code",
   "execution_count": null,
   "metadata": {
    "collapsed": true
   },
   "outputs": [],
   "source": [
    "def extract_year(time_string):\n",
    "    return dateutil.parser.parse(time_string).year"
   ]
  },
  {
   "cell_type": "code",
   "execution_count": null,
   "metadata": {
    "collapsed": true
   },
   "outputs": [],
   "source": []
  }
 ],
 "metadata": {
  "kernelspec": {
   "display_name": "Python 2",
   "language": "python",
   "name": "python2"
  },
  "language_info": {
   "codemirror_mode": {
    "name": "ipython",
    "version": 2
   },
   "file_extension": ".py",
   "mimetype": "text/x-python",
   "name": "python",
   "nbconvert_exporter": "python",
   "pygments_lexer": "ipython2",
   "version": "2.7.11"
  }
 },
 "nbformat": 4,
 "nbformat_minor": 0
}
