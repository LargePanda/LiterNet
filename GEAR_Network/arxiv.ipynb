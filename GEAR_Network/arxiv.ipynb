{
 "cells": [
  {
   "cell_type": "code",
   "execution_count": 62,
   "metadata": {
    "collapsed": false
   },
   "outputs": [],
   "source": [
    "import xml.etree.ElementTree as ET\n",
    "from fuzzywuzzy import fuzz\n",
    "import json\n",
    "import xmltodict"
   ]
  },
  {
   "cell_type": "code",
   "execution_count": 63,
   "metadata": {
    "collapsed": true
   },
   "outputs": [],
   "source": [
    "def if_same_person(first, second):\n",
    "    ser = fuzz.token_set_ratio(first, second)    \n",
    "    return ser > 75"
   ]
  },
  {
   "cell_type": "code",
   "execution_count": 64,
   "metadata": {
    "collapsed": false
   },
   "outputs": [],
   "source": [
    "def possibles(fn, ln):\n",
    "    ret = [ln+\"_\"+fn, ln+\"_\"+fn[0], fn+\"_\"+ln]\n",
    "    return ret"
   ]
  },
  {
   "cell_type": "code",
   "execution_count": 65,
   "metadata": {
    "collapsed": true
   },
   "outputs": [],
   "source": [
    "def combines(a_first_name, a_last_name, b_first_name, b_last_name):\n",
    "    cl1 = possibles(a_first_name, a_last_name)\n",
    "    cl2 = possibles(b_first_name, b_last_name)\n",
    "    ret = []\n",
    "    for c1 in cl1:\n",
    "        for c2 in cl2:\n",
    "            ret.append((c1, c2))\n",
    "    return ret"
   ]
  },
  {
   "cell_type": "code",
   "execution_count": 66,
   "metadata": {
    "collapsed": false
   },
   "outputs": [],
   "source": [
    "def build_url(n1, n2):\n",
    "    url = \"http://export.arxiv.org/api/query?search_query=au:\"\n",
    "    url += n1 +\" AND \" + \"au:\"+n2 + \"&max_results=1000\"\n",
    "    return url"
   ]
  },
  {
   "cell_type": "code",
   "execution_count": 67,
   "metadata": {
    "collapsed": false
   },
   "outputs": [],
   "source": [
    "def get_list(src, p1, p2):\n",
    "    ret = []\n",
    "    try:\n",
    "        for entry in src['feed'][u'entry']:\n",
    "            unit = {}\n",
    "            unit['title'] = entry['title']\n",
    "            unit['authors'] = entry['author']\n",
    "\n",
    "            score = 0\n",
    "            for author in unit['authors']:\n",
    "                if if_same_person(p1, author['name']) or if_same_person(p2, author['name']):\n",
    "                    score += 1 \n",
    "            unit['id'] = entry['id']\n",
    "            if score>=2:\n",
    "                ret.append(unit)\n",
    "    except:\n",
    "        pass\n",
    "    return ret"
   ]
  },
  {
   "cell_type": "code",
   "execution_count": 68,
   "metadata": {
    "collapsed": false
   },
   "outputs": [],
   "source": [
    "def get_papers(a_first_name, a_last_name, b_first_name, b_last_name):\n",
    "    comb = combines(a_first_name, a_last_name, b_first_name, b_last_name)\n",
    "    print comb\n",
    "    col = {}\n",
    "    for c in comb:\n",
    "        url = build_url(c[0], c[1])\n",
    "        print url\n",
    "        data = urllib.urlopen(url).read()\n",
    "        hold = json.loads(json.dumps(xmltodict.parse(data)))\n",
    "        papers = get_list(hold, a_first_name+\" \"+a_last_name, b_first_name+\" \"+b_last_name)\n",
    "        for paper in papers:\n",
    "            idea = paper['id']\n",
    "            col[idea] = paper\n",
    "    ret = []\n",
    "    for p in col.values():\n",
    "        ret.append(p['title'])\n",
    "    return ret"
   ]
  },
  {
   "cell_type": "code",
   "execution_count": 70,
   "metadata": {
    "collapsed": false
   },
   "outputs": [
    {
     "name": "stdout",
     "output_type": "stream",
     "text": [
      "[('Bradlow_Steven', 'Gothen_Peter'), ('Bradlow_Steven', 'Gothen_P'), ('Bradlow_Steven', 'Peter_Gothen'), ('Bradlow_S', 'Gothen_Peter'), ('Bradlow_S', 'Gothen_P'), ('Bradlow_S', 'Peter_Gothen'), ('Steven_Bradlow', 'Gothen_Peter'), ('Steven_Bradlow', 'Gothen_P'), ('Steven_Bradlow', 'Peter_Gothen')]\n",
      "http://export.arxiv.org/api/query?search_query=au:Bradlow_Steven AND au:Gothen_Peter&max_results=1000\n",
      "http://export.arxiv.org/api/query?search_query=au:Bradlow_Steven AND au:Gothen_P&max_results=1000\n",
      "http://export.arxiv.org/api/query?search_query=au:Bradlow_Steven AND au:Peter_Gothen&max_results=1000\n",
      "http://export.arxiv.org/api/query?search_query=au:Bradlow_S AND au:Gothen_Peter&max_results=1000\n",
      "http://export.arxiv.org/api/query?search_query=au:Bradlow_S AND au:Gothen_P&max_results=1000\n",
      "http://export.arxiv.org/api/query?search_query=au:Bradlow_S AND au:Peter_Gothen&max_results=1000\n",
      "http://export.arxiv.org/api/query?search_query=au:Steven_Bradlow AND au:Gothen_Peter&max_results=1000\n",
      "http://export.arxiv.org/api/query?search_query=au:Steven_Bradlow AND au:Gothen_P&max_results=1000\n",
      "http://export.arxiv.org/api/query?search_query=au:Steven_Bradlow AND au:Peter_Gothen&max_results=1000\n"
     ]
    },
    {
     "data": {
      "text/plain": [
       "[u'Maximal surface group representations in isometry groups of classical\\n  Hermitian symmetric spaces',\n",
       " u'Deformations of maximal representations in Sp(4,R)',\n",
       " u'Representations of the fundamental group of a surface in PU(p,q) and\\n  holomorphic triples',\n",
       " u'Moduli spaces of holomorphic triples over compact Riemann surfaces',\n",
       " u'Representations of surface groups in the general linear group',\n",
       " u'Higgs bundles for the non-compact dual of the special orthogonal group',\n",
       " u'Surface group representations in PU(p,q) and Higgs bundles',\n",
       " u'Surface group representations, Higgs bundles, and holomorphic triples',\n",
       " u'Homotopy groups of moduli spaces of representations']"
      ]
     },
     "execution_count": 70,
     "metadata": {},
     "output_type": "execute_result"
    }
   ],
   "source": [
    "get_papers(\"Steven\", \"Bradlow\", \"Peter\", \"Gothen\")"
   ]
  },
  {
   "cell_type": "code",
   "execution_count": null,
   "metadata": {
    "collapsed": true
   },
   "outputs": [],
   "source": []
  }
 ],
 "metadata": {
  "kernelspec": {
   "display_name": "Python 2",
   "language": "python",
   "name": "python2"
  },
  "language_info": {
   "codemirror_mode": {
    "name": "ipython",
    "version": 2
   },
   "file_extension": ".py",
   "mimetype": "text/x-python",
   "name": "python",
   "nbconvert_exporter": "python",
   "pygments_lexer": "ipython2",
   "version": "2.7.11"
  }
 },
 "nbformat": 4,
 "nbformat_minor": 0
}
